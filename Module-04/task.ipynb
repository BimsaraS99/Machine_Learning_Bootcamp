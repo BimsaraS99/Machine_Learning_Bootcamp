{
 "cells": [
  {
   "cell_type": "markdown",
   "id": "26d864bd",
   "metadata": {},
   "source": [
    "# Multiple Linear Regression"
   ]
  },
  {
   "cell_type": "markdown",
   "id": "2583ea61",
   "metadata": {},
   "source": [
    "### Import Libraries"
   ]
  },
  {
   "cell_type": "code",
   "execution_count": 2,
   "id": "dd5bb3ca",
   "metadata": {},
   "outputs": [],
   "source": [
    "import pandas as pd\n",
    "from sklearn.linear_model import LinearRegression\n",
    "from sklearn.model_selection import train_test_split\n",
    "from sklearn.metrics import mean_squared_error, r2_score"
   ]
  },
  {
   "cell_type": "markdown",
   "id": "91f97378",
   "metadata": {},
   "source": [
    "### Load dataset (Load the dataset and display its features.)\n",
    "\n"
   ]
  },
  {
   "cell_type": "code",
   "execution_count": null,
   "id": "22c116c4",
   "metadata": {},
   "outputs": [],
   "source": []
  },
  {
   "cell_type": "markdown",
   "id": "197107ef",
   "metadata": {},
   "source": [
    "### Drop / Remove any non-numerical features if they exist."
   ]
  },
  {
   "cell_type": "code",
   "execution_count": null,
   "id": "2bea271c",
   "metadata": {},
   "outputs": [],
   "source": []
  },
  {
   "cell_type": "markdown",
   "id": "f8a0555c",
   "metadata": {},
   "source": [
    "### Split into features and target (Target is what we want to predict)"
   ]
  },
  {
   "cell_type": "code",
   "execution_count": null,
   "id": "badc9dfe",
   "metadata": {},
   "outputs": [],
   "source": []
  },
  {
   "cell_type": "markdown",
   "id": "e53b6861",
   "metadata": {},
   "source": [
    "\n",
    "### Split the dataset into 80% training and 20% testing sets."
   ]
  },
  {
   "cell_type": "code",
   "execution_count": null,
   "id": "37d4e786",
   "metadata": {},
   "outputs": [],
   "source": []
  },
  {
   "cell_type": "markdown",
   "id": "1507634e",
   "metadata": {},
   "source": [
    "### Define Regression Model using Sk-learn Library"
   ]
  },
  {
   "cell_type": "code",
   "execution_count": null,
   "id": "f0a49ca3",
   "metadata": {},
   "outputs": [],
   "source": []
  },
  {
   "cell_type": "markdown",
   "id": "dc89665c",
   "metadata": {},
   "source": [
    "### Fit the model"
   ]
  },
  {
   "cell_type": "code",
   "execution_count": null,
   "id": "ee7bc0cf",
   "metadata": {},
   "outputs": [],
   "source": []
  },
  {
   "cell_type": "markdown",
   "id": "df51174e",
   "metadata": {},
   "source": [
    "### Evaluate the model by making predictions on the test set and computing its accuracy (R squred value)."
   ]
  },
  {
   "cell_type": "code",
   "execution_count": null,
   "id": "66fdc9c3",
   "metadata": {},
   "outputs": [],
   "source": []
  },
  {
   "cell_type": "markdown",
   "id": "0229d3f5",
   "metadata": {},
   "source": [
    "### Predict the `Perfomace Index` of the student whoes, \n",
    "\n",
    "- Hours Studied = 12\n",
    "- Previous Score = 89\n",
    "- Sleep Hours = 8\n",
    "- Sample Question Papers Practiced = 11"
   ]
  },
  {
   "cell_type": "markdown",
   "id": "59ebe7ca",
   "metadata": {},
   "source": []
  }
 ],
 "metadata": {
  "kernelspec": {
   "display_name": "Python 3",
   "language": "python",
   "name": "python3"
  },
  "language_info": {
   "codemirror_mode": {
    "name": "ipython",
    "version": 3
   },
   "file_extension": ".py",
   "mimetype": "text/x-python",
   "name": "python",
   "nbconvert_exporter": "python",
   "pygments_lexer": "ipython3",
   "version": "3.9.21"
  }
 },
 "nbformat": 4,
 "nbformat_minor": 5
}
