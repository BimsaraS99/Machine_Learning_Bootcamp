{
 "cells": [
  {
   "cell_type": "markdown",
   "id": "26d864bd",
   "metadata": {},
   "source": [
    "# Multiple Linear Regression"
   ]
  },
  {
   "cell_type": "markdown",
   "id": "2583ea61",
   "metadata": {},
   "source": [
    "### Import Libraries"
   ]
  },
  {
   "cell_type": "code",
   "execution_count": 2,
   "id": "dd5bb3ca",
   "metadata": {},
   "outputs": [],
   "source": [
    "import pandas as pd\n",
    "from sklearn.linear_model import LinearRegression\n",
    "from sklearn.model_selection import train_test_split\n",
    "from sklearn.metrics import mean_squared_error, r2_score"
   ]
  },
  {
   "cell_type": "markdown",
   "id": "91f97378",
   "metadata": {},
   "source": [
    "### Load dataset (Load the dataset and display its features.)\n",
    "\n"
   ]
  },
  {
   "cell_type": "markdown",
   "id": "197107ef",
   "metadata": {},
   "source": [
    "### Drop / Remove any non-numerical features if they exist."
   ]
  },
  {
   "cell_type": "markdown",
   "id": "f8a0555c",
   "metadata": {},
   "source": [
    "### Split into features and target (Target is what we want to predict)"
   ]
  },
  {
   "cell_type": "markdown",
   "id": "e53b6861",
   "metadata": {},
   "source": [
    "\n",
    "### Split the dataset into 80% training and 20% testing sets."
   ]
  },
  {
   "cell_type": "markdown",
   "id": "1507634e",
   "metadata": {},
   "source": [
    "### Define Regression Model using Sk-learn Library"
   ]
  },
  {
   "cell_type": "markdown",
   "id": "dc89665c",
   "metadata": {},
   "source": [
    "### Fit the model"
   ]
  }
 ],
 "metadata": {
  "kernelspec": {
   "display_name": "Python 3",
   "language": "python",
   "name": "python3"
  },
  "language_info": {
   "codemirror_mode": {
    "name": "ipython",
    "version": 3
   },
   "file_extension": ".py",
   "mimetype": "text/x-python",
   "name": "python",
   "nbconvert_exporter": "python",
   "pygments_lexer": "ipython3",
   "version": "3.9.21"
  }
 },
 "nbformat": 4,
 "nbformat_minor": 5
}
