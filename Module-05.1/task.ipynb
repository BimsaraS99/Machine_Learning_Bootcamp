{
 "cells": [
  {
   "cell_type": "markdown",
   "id": "156812b7",
   "metadata": {},
   "source": [
    "## Import Libraries"
   ]
  },
  {
   "cell_type": "code",
   "execution_count": 60,
   "id": "088282a2",
   "metadata": {},
   "outputs": [],
   "source": [
    "# Import required libraries\n",
    "import os\n",
    "import numpy as np\n",
    "from PIL import Image\n",
    "from sklearn.model_selection import train_test_split\n",
    "from sklearn.svm import SVC\n",
    "from sklearn.metrics import classification_report, accuracy_score"
   ]
  },
  {
   "cell_type": "markdown",
   "id": "b357221c",
   "metadata": {},
   "source": [
    "## Define Image and Dataset Parameters"
   ]
  },
  {
   "cell_type": "code",
   "execution_count": 61,
   "id": "bead21df",
   "metadata": {},
   "outputs": [],
   "source": [
    "output_dir = \"train-set\"        # Folder where images are stored\n",
    "image_size = 100              # Image height and width\n",
    "num_images_per_class = 100    # Optional: number of images per class"
   ]
  },
  {
   "cell_type": "code",
   "execution_count": 62,
   "id": "266d479d",
   "metadata": {},
   "outputs": [],
   "source": [
    "# Initialize lists to store features and labels\n",
    "X = []\n",
    "y = []"
   ]
  },
  {
   "cell_type": "markdown",
   "id": "ee172e00",
   "metadata": {},
   "source": [
    "## Load Images from Folders"
   ]
  },
  {
   "cell_type": "code",
   "execution_count": null,
   "id": "f454a67c",
   "metadata": {},
   "outputs": [],
   "source": [
    "# 📌 This block loads images from folders: 'class_0' and 'class_1'\n",
    "# It reads each image, converts it to grayscale, resizes to 100x100 pixels,\n",
    "# and stores the image data and its label.\n",
    "\n",
    "# We loop through the two classes: 0 and 1\n",
    "for label in [0, 1]:\n",
    "    \n",
    "    # Get the folder name for the class, like: 'dataset/class_0' or 'dataset/class_1'\n",
    "    folder_path = os.path.join(output_dir, f\"{label}\")\n",
    "    \n",
    "    # Go through each file in the folder\n",
    "    --------------------code------------------------\n",
    "        \n",
    "        # Only process files that are PNG images\n",
    "        --------------------code------------------------\n",
    "            \n",
    "            # Create the full path to the image file\n",
    "            --------------------code------------------------\n",
    "            \n",
    "            # 🖼️ Open the image using PIL and convert it to grayscale (L = luminance)\n",
    "            --------------------code------------------------\n",
    "            \n",
    "            # 📏 Resize the image to 100x100 pixels (in case it's not already)\n",
    "            --------------------code------------------------\n",
    "            \n",
    "            # 🧮 Convert the image into a 2D NumPy array and store it\n",
    "            # We'll flatten it later in another step\n",
    "            --------------------code------------------------\n",
    "            --------------------code------------------------\n",
    "            \n",
    "            # 🏷️ Add the label (0 or 1) corresponding to the class folder\n",
    "            y.append(label)\n",
    "\n",
    "# ✅ Now 'X' contains the image data, and 'y' contains the labels!\n"
   ]
  },
  {
   "cell_type": "markdown",
   "id": "e6c5b9b4",
   "metadata": {},
   "source": [
    "## Flatten Images into Vectors"
   ]
  },
  {
   "cell_type": "markdown",
   "id": "13ebd7e2",
   "metadata": {},
   "source": [
    "Explain why images need to be flattened."
   ]
  },
  {
   "cell_type": "code",
   "execution_count": null,
   "id": "07bd1c06",
   "metadata": {},
   "outputs": [
    {
     "name": "stdout",
     "output_type": "stream",
     "text": [
      "X shape: (200, 10000)\n",
      "y shape: (200,)\n"
     ]
    }
   ],
   "source": []
  },
  {
   "cell_type": "markdown",
   "id": "211d5d1b",
   "metadata": {},
   "source": [
    "## Split Data into Training and Test Sets"
   ]
  },
  {
   "cell_type": "code",
   "execution_count": null,
   "id": "d16e84a7",
   "metadata": {},
   "outputs": [
    {
     "name": "stdout",
     "output_type": "stream",
     "text": [
      "Training samples: 160\n",
      "Testing samples: 40\n"
     ]
    }
   ],
   "source": []
  },
  {
   "cell_type": "markdown",
   "id": "748fb071",
   "metadata": {},
   "source": [
    "## Train the SVM Classifier"
   ]
  },
  {
   "cell_type": "markdown",
   "id": "a667e55e",
   "metadata": {},
   "source": [
    "Explain how the SVM algorithm works and help me understand it."
   ]
  },
  {
   "cell_type": "code",
   "execution_count": null,
   "id": "cc628377",
   "metadata": {},
   "outputs": [
    {
     "name": "stdout",
     "output_type": "stream",
     "text": [
      "✅ Model training complete.\n"
     ]
    }
   ],
   "source": []
  },
  {
   "cell_type": "markdown",
   "id": "0c93d7f8",
   "metadata": {},
   "source": [
    "## Evaluate the Model"
   ]
  },
  {
   "cell_type": "code",
   "execution_count": null,
   "id": "d7534e71",
   "metadata": {},
   "outputs": [
    {
     "name": "stdout",
     "output_type": "stream",
     "text": [
      "✅ Evaluation complete.\n",
      "Accuracy: 0.925\n",
      "              precision    recall  f1-score   support\n",
      "\n",
      "           0       0.91      0.95      0.93        21\n",
      "           1       0.94      0.89      0.92        19\n",
      "\n",
      "    accuracy                           0.93        40\n",
      "   macro avg       0.93      0.92      0.92        40\n",
      "weighted avg       0.93      0.93      0.92        40\n",
      "\n"
     ]
    }
   ],
   "source": []
  },
  {
   "cell_type": "markdown",
   "id": "ff4b326a",
   "metadata": {},
   "source": [
    "## Predict on given images"
   ]
  },
  {
   "cell_type": "code",
   "execution_count": 78,
   "id": "181a571d",
   "metadata": {},
   "outputs": [
    {
     "data": {
      "image/png": "[encoded data removed]",
      "text/plain": [
       "<Figure size 640x480 with 1 Axes>"
      ]
     },
     "metadata": {},
     "output_type": "display_data"
    },
    {
     "name": "stdout",
     "output_type": "stream",
     "text": [
      "Predicted class: Circle\n"
     ]
    }
   ],
   "source": [
    "import matplotlib.pyplot as plt\n",
    "from PIL import Image\n",
    "import numpy as np\n",
    "\n",
    "def predict_image(image_path):\n",
    "    # Open and preprocess the image\n",
    "    image = Image.open(image_path).convert('L').resize((image_size, image_size))\n",
    "    image_array = np.array(image)\n",
    "    \n",
    "    # Show the image\n",
    "    plt.imshow(image_array, cmap='gray')\n",
    "    plt.title(\"Input Image\")\n",
    "    plt.axis('off')\n",
    "    plt.show()\n",
    "    \n",
    "    # Flatten and reshape for prediction\n",
    "    image_flat = image_array.flatten().reshape(1, -1)\n",
    "    \n",
    "    # Predict using the trained classifier\n",
    "    predicted_class = clf.predict(image_flat)[0]\n",
    "    return predicted_class\n",
    "\n",
    "# Example usage:\n",
    "result = predict_image('test-set/1/img_5.png')\n",
    "res = [\"Squre\", \"Circle\"]\n",
    "print(f\"Predicted class: {res[result]}\")\n"
   ]
  }
 ],
 "metadata": {
  "kernelspec": {
   "display_name": "sliit",
   "language": "python",
   "name": "python3"
  },
  "language_info": {
   "codemirror_mode": {
    "name": "ipython",
    "version": 3
   },
   "file_extension": ".py",
   "mimetype": "text/x-python",
   "name": "python",
   "nbconvert_exporter": "python",
   "pygments_lexer": "ipython3",
   "version": "3.9.21"
  }
 },
 "nbformat": 4,
 "nbformat_minor": 5
}
